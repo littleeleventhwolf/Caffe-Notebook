{
 "cells": [
  {
   "cell_type": "markdown",
   "metadata": {},
   "source": [
    "cifar10的各层数据和参数可视化。先用caffe对cifar10进行训练，将训练的结果模型进行保存，得到一个caffemodel，然后从测试图片中选出一张进行测试，并进行可视化。"
   ]
  },
  {
   "cell_type": "code",
   "execution_count": null,
   "metadata": {
    "collapsed": true
   },
   "outputs": [],
   "source": [
    "# 加载必要的库\n",
    "import numpy as np\n",
    "import matplotlib.pyplot as plt\n",
    "%matplotlib inline\n",
    "import sys, os, caffe"
   ]
  },
  {
   "cell_type": "code",
   "execution_count": null,
   "metadata": {
    "collapsed": true
   },
   "outputs": [],
   "source": [
    "# 设置当前目录，判断模型是否训练好\n",
    "caffe_root = '/home/ubuntu/Downloads/caffe-master/'\n",
    "sys.path.insert(0, caffe_root+'python')\n",
    "os.chdir(caffe_root)\n",
    "if not os.path.isfile(caffe_root+'examples/cifar10/cifar10_quick_iter_4000.caffemodel'):\n",
    "    print(\"caffemodel is not exist ...\")"
   ]
  },
  {
   "cell_type": "code",
   "execution_count": null,
   "metadata": {
    "collapsed": true
   },
   "outputs": [],
   "source": [
    "# 利用提前训练好的模型，设置测试网络\n",
    "caffe.set_mode_cpu()\n",
    "net = caffe.Net(caffe_root + 'examples/cifar10/cifar10_quick.prototxt',\n",
    "               caffe_root + 'examples/cifar10/cifar10_quick_iter_4000.caffemodel',\n",
    "               caffe.TEST)"
   ]
  },
  {
   "cell_type": "code",
   "execution_count": null,
   "metadata": {
    "collapsed": true
   },
   "outputs": [],
   "source": [
    "net.blobs['data'].data.shape"
   ]
  },
  {
   "cell_type": "code",
   "execution_count": null,
   "metadata": {
    "collapsed": true
   },
   "outputs": [],
   "source": [
    "# 加载测试图片，并显示\n",
    "im = caffe.io.load_image('examples/images/32.jpg')\n",
    "print(im.shape)\n",
    "plt.imshow(im)\n",
    "plt.axis('off')"
   ]
  },
  {
   "cell_type": "code",
   "execution_count": null,
   "metadata": {
    "collapsed": true
   },
   "outputs": [],
   "source": [
    "#　编写一个函数，将二进制的均值转换为python的均值\n",
    "def convert_mean(binMean,npyMean):\n",
    "    blob = caffe.proto.caffe_pb2.BlobProto()\n",
    "    bin_mean = open(binMean, 'rb' ).read()\n",
    "    blob.ParseFromString(bin_mean)\n",
    "    arr = np.array( caffe.io.blobproto_to_array(blob) )\n",
    "    npy_mean = arr[0]\n",
    "    np.save(npyMean, npy_mean )\n",
    "binMean=caffe_root+'examples/cifar10/mean.binaryproto'\n",
    "npyMean=caffe_root+'examples/cifar10/mean.npy'\n",
    "convert_mean(binMean,npyMean)"
   ]
  },
  {
   "cell_type": "code",
   "execution_count": null,
   "metadata": {
    "collapsed": true
   },
   "outputs": [],
   "source": [
    "#将图片载入blob中,并减去均值\n",
    "transformer = caffe.io.Transformer({'data': net.blobs['data'].data.shape})\n",
    "transformer.set_transpose('data', (2,0,1))\n",
    "transformer.set_mean('data', np.load(npyMean).mean(1).mean(1)) # 减去均值\n",
    "transformer.set_raw_scale('data', 255)  \n",
    "transformer.set_channel_swap('data', (2,1,0))\n",
    "net.blobs['data'].data[...] = transformer.preprocess('data',im)\n",
    "inputData=net.blobs['data'].data"
   ]
  },
  {
   "cell_type": "code",
   "execution_count": null,
   "metadata": {
    "collapsed": true
   },
   "outputs": [],
   "source": [
    "#显示减去均值前后的数据\n",
    "plt.figure()\n",
    "plt.subplot(1,2,1),plt.title(\"origin\")\n",
    "plt.imshow(im)\n",
    "plt.axis('off')\n",
    "plt.subplot(1,2,2),plt.title(\"subtract mean\")\n",
    "plt.imshow(transformer.deprocess('data', inputData[0]))\n",
    "plt.axis('off')"
   ]
  },
  {
   "cell_type": "code",
   "execution_count": null,
   "metadata": {
    "collapsed": true
   },
   "outputs": [],
   "source": [
    "#运行测试模型，并显示各层数据信息\n",
    "net.forward()\n",
    "[(k, v.data.shape) for k, v in net.blobs.items()]"
   ]
  },
  {
   "cell_type": "code",
   "execution_count": null,
   "metadata": {
    "collapsed": true
   },
   "outputs": [],
   "source": [
    "#显示各层的参数信息\n",
    "[(k, v[0].data.shape) for k, v in net.params.items()]"
   ]
  },
  {
   "cell_type": "code",
   "execution_count": null,
   "metadata": {
    "collapsed": true
   },
   "outputs": [],
   "source": [
    "#　编写一个函数，用于显示各层数据\n",
    "def show_data(data, padsize=1, padval=0):\n",
    "    data -= data.min()\n",
    "    data /= data.max()\n",
    "    \n",
    "    # force the number of filters to be square\n",
    "    n = int(np.ceil(np.sqrt(data.shape[0])))\n",
    "    padding = ((0, n ** 2 - data.shape[0]), (0, padsize), (0, padsize)) + ((0, 0),) * (data.ndim - 3)\n",
    "    data = np.pad(data, padding, mode='constant', constant_values=(padval, padval))\n",
    "    \n",
    "    # tile the filters into an image\n",
    "    data = data.reshape((n, n) + data.shape[1:]).transpose((0, 2, 1, 3) + tuple(range(4, data.ndim + 1)))\n",
    "    data = data.reshape((n * data.shape[1], n * data.shape[3]) + data.shape[4:])\n",
    "    plt.figure()\n",
    "    plt.imshow(data,cmap='gray')\n",
    "    plt.axis('off')\n",
    "plt.rcParams['figure.figsize'] = (8, 8)\n",
    "plt.rcParams['image.interpolation'] = 'nearest'\n",
    "plt.rcParams['image.cmap'] = 'gray'"
   ]
  },
  {
   "cell_type": "code",
   "execution_count": null,
   "metadata": {
    "collapsed": true
   },
   "outputs": [],
   "source": [
    "#显示第一个卷积层的输出数据和权值（filter）\n",
    "show_data(net.blobs['conv1'].data[0])\n",
    "print net.blobs['conv1'].data.shape\n",
    "show_data(net.params['conv1'][0].data.reshape(32*3,5,5))\n",
    "print net.params['conv1'][0].data.shape"
   ]
  },
  {
   "cell_type": "code",
   "execution_count": null,
   "metadata": {
    "collapsed": true
   },
   "outputs": [],
   "source": [
    "#显示第一次pooling后的输出数据\n",
    "show_data(net.blobs['pool1'].data[0])\n",
    "net.blobs['pool1'].data.shape"
   ]
  },
  {
   "cell_type": "code",
   "execution_count": null,
   "metadata": {
    "collapsed": true
   },
   "outputs": [],
   "source": [
    "#显示第二次卷积后的输出数据以及相应的权值（filter）\n",
    "show_data(net.blobs['conv2'].data[0],padval=0.5)\n",
    "print net.blobs['conv2'].data.shape\n",
    "show_data(net.params['conv2'][0].data.reshape(32**2,5,5))\n",
    "print net.params['conv2'][0].data.shape"
   ]
  },
  {
   "cell_type": "code",
   "execution_count": null,
   "metadata": {
    "collapsed": true
   },
   "outputs": [],
   "source": [
    "#显示第三次卷积后的输出数据以及相应的权值（filter）,取前１024个进行显示\n",
    "show_data(net.blobs['conv3'].data[0],padval=0.5)\n",
    "print net.blobs['conv3'].data.shape\n",
    "show_data(net.params['conv3'][0].data.reshape(64*32,5,5)[:1024])\n",
    "print net.params['conv3'][0].data.shape"
   ]
  },
  {
   "cell_type": "code",
   "execution_count": null,
   "metadata": {
    "collapsed": true
   },
   "outputs": [],
   "source": [
    "#显示第三次池化后的输出数据\n",
    "show_data(net.blobs['pool3'].data[0],padval=0.2)\n",
    "print net.blobs['pool3'].data.shape"
   ]
  },
  {
   "cell_type": "code",
   "execution_count": null,
   "metadata": {
    "collapsed": true
   },
   "outputs": [],
   "source": [
    "# 最后一层输入属于某个类的概率\n",
    "feat = net.blobs['prob'].data[0]\n",
    "print feat\n",
    "plt.plot(feat.flat)"
   ]
  },
  {
   "cell_type": "markdown",
   "metadata": {},
   "source": [
    "从输入的结果和图示来看，最大的概率是7.17785358e-01，属于第５类（标号从０开始）。与cifar10中的10种类型名称进行对比：\n",
    "\n",
    "airplane、automobile、bird、cat、deer、dog、frog、horse、ship、truck\n",
    "\n",
    "根据测试结果，判断为dog。 测试无误！"
   ]
  }
 ],
 "metadata": {
  "kernelspec": {
   "display_name": "Python 2",
   "language": "python",
   "name": "python2"
  },
  "language_info": {
   "codemirror_mode": {
    "name": "ipython",
    "version": 2
   },
   "file_extension": ".py",
   "mimetype": "text/x-python",
   "name": "python",
   "nbconvert_exporter": "python",
   "pygments_lexer": "ipython2",
   "version": "2.7.12"
  }
 },
 "nbformat": 4,
 "nbformat_minor": 1
}
