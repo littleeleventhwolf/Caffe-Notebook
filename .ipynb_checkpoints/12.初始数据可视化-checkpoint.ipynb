{
 "cells": [
  {
   "cell_type": "markdown",
   "metadata": {},
   "source": [
    "首先将caffe的根目录作为当前目录，然后加载caffe程序自带的小猫图片，并显示。\n",
    "\n",
    "图片大小为360x480，三通道。"
   ]
  },
  {
   "cell_type": "code",
   "execution_count": null,
   "metadata": {
    "collapsed": true
   },
   "outputs": [],
   "source": [
    "import numpy as np\n",
    "import matplotlib.pyplot as plt\n",
    "%matplotlib inline\n",
    "import caffe\n",
    "caffe_root='/home/ubuntu/Downloads/caffe-master/'\n",
    "import os\n",
    "import sys\n",
    "os.chdir(caffe_root)\n",
    "sys.path.insert(0, caffe_root+'python')\n",
    "im = caffe.io.load_image('examples/images/cat.jpg')\n",
    "print(im.shape)\n",
    "plt.imshow(im)\n",
    "plt.axis('off')"
   ]
  },
  {
   "cell_type": "markdown",
   "metadata": {},
   "source": [
    "首先讲一下%matplotlib inline的作用：matplotlib是Python的图标绘制扩展库，它支持输出多种格式的图形图像，并且可以使用多种GUI界面库交互式地显示图标。使用%matplotlib命令可以将matplotlib的图表直接嵌入到Notebook中或者使用指定的界面库显示图表，它有一个参数指定matplotlib图表的显示方式。inline表示将图标嵌入到Notebook中。"
   ]
  },
  {
   "cell_type": "markdown",
   "metadata": {},
   "source": [
    "打开examples/net_surgery/conv.prototxt文件，修改两个地方。\n",
    "\n",
    "一是将input_shape由原来的(1, 1, 100, 100)修改为(1, 3, 100, 100)，即由单通道灰度图变为三通道彩色图。\n",
    "\n",
    "二是将过滤器个数(num_output)由3修改为16，多增加一些filter，当然保持原来的个数不变也行。"
   ]
  },
  {
   "cell_type": "code",
   "execution_count": null,
   "metadata": {
    "collapsed": true
   },
   "outputs": [],
   "source": [
    "! cat examples/net_surgery/conv.prototxt"
   ]
  },
  {
   "cell_type": "markdown",
   "metadata": {},
   "source": [
    "将图片数据加载到blobs，但反过来，我们也可以从blob中提取出原始数据，并进行显示。\n",
    "\n",
    "显示的时候要注意各维的顺序，如blobs的顺序是(1, 3, 360, 480)，从前往后分别表示1张图片，3个通道，360x480的图片大小，需要调用transpose改变为(360, 480, 3)才能正常显示。\n",
    "\n",
    "其中data[0]表示第一张图片，下标从0开始，此例只有一张图片，因此只能是data[0]。分别用data[0, 1]和data[0, 2]表示该图片的三个通道。"
   ]
  },
  {
   "cell_type": "code",
   "execution_count": null,
   "metadata": {
    "collapsed": true
   },
   "outputs": [],
   "source": [
    "net = caffe.Net('examples/net_surgery/conv.prototxt', caffe.TEST)\n",
    "im_input = im[np.newaxis, :, :, :].transpose(0, 3, 1, 2)\n",
    "print(\"data-blobs: \", im_input.shape)\n",
    "net.blobs['data'].reshape(*im_input.shape)\n",
    "net.blobs['data'].data[...] = im_input\n",
    "plt.imshow(net.blobs['data'].data[0].transpose(1, 2, 0))\n",
    "plt.axis('off')"
   ]
  },
  {
   "cell_type": "markdown",
   "metadata": {},
   "source": [
    "编写一个show_data函数来显示数据："
   ]
  },
  {
   "cell_type": "code",
   "execution_count": null,
   "metadata": {
    "collapsed": true
   },
   "outputs": [],
   "source": [
    "plt.rcParams['image.cmap'] = 'gray'\n",
    "\n",
    "def show_data(data,head,padsize=1, padval=0):\n",
    "    data -= data.min()\n",
    "    data /= data.max()\n",
    "    \n",
    "    # force the number of filters to be square\n",
    "    n = int(np.ceil(np.sqrt(data.shape[0])))\n",
    "    padding = ((0, n ** 2 - data.shape[0]), (0, padsize), (0, padsize)) + ((0, 0),) * (data.ndim - 3)\n",
    "    data = np.pad(data, padding, mode='constant', constant_values=(padval, padval))\n",
    "    \n",
    "    # tile the filters into an image\n",
    "    data = data.reshape((n, n) + data.shape[1:]).transpose((0, 2, 1, 3) + tuple(range(4, data.ndim + 1)))\n",
    "    data = data.reshape((n * data.shape[1], n * data.shape[3]) + data.shape[4:])\n",
    "    plt.figure()\n",
    "    plt.title(head)\n",
    "    plt.imshow(data)\n",
    "    plt.axis('off')"
   ]
  },
  {
   "cell_type": "markdown",
   "metadata": {},
   "source": [
    "从blobs数据中将原始图片提出来，并分别显示不同的通道图："
   ]
  },
  {
   "cell_type": "code",
   "execution_count": null,
   "metadata": {
    "collapsed": true
   },
   "outputs": [],
   "source": [
    "print(\"data-blocks: \", net.blobs['data'].data.shape)\n",
    "show_data(net.blobs['data'].data[0], 'origin images')"
   ]
  },
  {
   "cell_type": "markdown",
   "metadata": {},
   "source": [
    "调用forward()执行卷积操作，blobs数据发生改变。由原来的(1, 3, 360, 480)变为(1, 16, 356, 476)。并初始化生成了相应的权值，权值数据为(16, 3, 5, 5)。最后调用两次show_data来分别显示权值和卷积过滤后的16通道图片。"
   ]
  },
  {
   "cell_type": "code",
   "execution_count": null,
   "metadata": {
    "collapsed": true
   },
   "outputs": [],
   "source": [
    "net.forward()\n",
    "print(\"data-blobs:\",net.blobs['data'].data.shape)\n",
    "print(\"conv-blobs:\",net.blobs['conv'].data.shape)\n",
    "print(\"weight-blobs:\",net.params['conv'][0span>].data.shape)\n",
    "show_data(net.params['conv'][0].data[:,0],'conv weights(filter)')\n",
    "show_data(net.blobs['conv'].data[0],'post-conv images')"
   ]
  }
 ],
 "metadata": {
  "kernelspec": {
   "display_name": "Python 2",
   "language": "python",
   "name": "python2"
  },
  "language_info": {
   "codemirror_mode": {
    "name": "ipython",
    "version": 2
   },
   "file_extension": ".py",
   "mimetype": "text/x-python",
   "name": "python",
   "nbconvert_exporter": "python",
   "pygments_lexer": "ipython2",
   "version": "2.7.12"
  }
 },
 "nbformat": 4,
 "nbformat_minor": 1
}
