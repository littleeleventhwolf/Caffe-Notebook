{
 "cells": [
  {
   "cell_type": "markdown",
   "metadata": {},
   "source": [
    "通过前面的学习，我们已经能够正常训练各种数据了。设置好solver.prototxt后，我们可以把训练好的模型保存起来，如lenet_iter_10000.caffemodel。训练多少次就自动保存一下，这个是通过snapshot进行设置的，保存文件的路径及文件名前缀是由snapshot_prefix来设定的。这个文件里存放的就是各层的参数，即net.params，里面没有数据(net.blobs)。顺带还生成了一个相应的solverstate文件，这个和caffemodel差不多，但它多了一些数据，如模型名称、当前迭代次数等。两者的功能不一样，训练完后保存起来的caffemodel，是在测试阶段用来分类的，而solverstate是用来恢复训练的，防止意外终止而保存的快照(有点像断点续传的感觉)。\n",
    "\n",
    "既然，我们知道了caffemodel里面保存的就是模型各层的参数，因此我们可以把这些参数提取出来，进行可视化，看一看究竟长什么样。\n",
    "\n",
    "我们先训练cifar10数据(mnist也可以)，迭代10000次，然后将训练好的model保存起来，名称为my_iter_10000.caffemodel，然后使用jupyter notebook来进行可视化。\n",
    "\n",
    "首先，导入必要的库："
   ]
  },
  {
   "cell_type": "code",
   "execution_count": null,
   "metadata": {
    "collapsed": true
   },
   "outputs": [],
   "source": [
    "import numpy as np\n",
    "import matplotlib.pyplot as plt\n",
    "import os, sys, caffe\n",
    "%matplotlib inline\n",
    "\n",
    "caffe_root = '/home/ubuntu/Downloads/caffe-master/'\n",
    "os.chdir(caffe_root)\n",
    "sys.path.insert(0, caffe_root+'python')\n",
    "\n",
    "plt.rcParams['figure.figsize'] = (8, 8)\n",
    "plt.rcParams['image.interpolation'] = 'nearest'\n",
    "plt.rcParams['image.cmap'] = 'gray'"
   ]
  },
  {
   "cell_type": "markdown",
   "metadata": {},
   "source": [
    "设置网络模型，并显示该模型中各层名称和参数的规模(注意此处是net.params，而不是net.blobs)。"
   ]
  },
  {
   "cell_type": "code",
   "execution_count": null,
   "metadata": {
    "collapsed": true
   },
   "outputs": [],
   "source": [
    "net = caffe.Net(caffe_root + 'examples/cifar10/cifar10_full.prototxt',\n",
    "               caffe_root + 'examples/cifar10/my_iter_10000.caffemodel',\n",
    "               caffe.TEST)\n",
    "[(k, v[0].data.shape) for k, v in net.params.items()]"
   ]
  },
  {
   "cell_type": "markdown",
   "metadata": {},
   "source": [
    "cifar10训练的模型配置在文件cifar10_full.prototxt里面，共有三个卷积层和一个全连接层。参数规模可以从上面的代码的输出得到。"
   ]
  },
  {
   "cell_type": "code",
   "execution_count": null,
   "metadata": {
    "collapsed": true
   },
   "outputs": [],
   "source": [
    "#编写一个函数，用于显示各层的参数\n",
    "def show_feature(data, padsize=1, padval=0):\n",
    "    data -= data.min()\n",
    "    data /= data.max()\n",
    "    \n",
    "    # force the number of filters to be square\n",
    "    n = int(np.ceil(np.sqrt(data.shape[0])))\n",
    "    padding = ((0, n ** 2 - data.shape[0]), (0, padsize), (0, padsize)) + ((0, 0),) * (data.ndim - 3)\n",
    "    data = np.pad(data, padding, mode='constant', constant_values=(padval, padval))\n",
    "    \n",
    "    # tile the filters into an image\n",
    "    data = data.reshape((n, n) + data.shape[1:]).transpose((0, 2, 1, 3) + tuple(range(4, data.ndim + 1)))\n",
    "    data = data.reshape((n * data.shape[1], n * data.shape[3]) + data.shape[4:])\n",
    "    plt.imshow(data)\n",
    "    plt.axis('off')"
   ]
  },
  {
   "cell_type": "code",
   "execution_count": null,
   "metadata": {
    "collapsed": true
   },
   "outputs": [],
   "source": [
    "# 第一个卷积层，参数规模为(32,3,5,5)，即32个5*5的3通道filter\n",
    "weight = net.params[\"conv1\"][0].data\n",
    "print(weight.shape)\n",
    "show_feature(weight.transpose(0, 2, 3, 1))"
   ]
  },
  {
   "cell_type": "markdown",
   "metadata": {},
   "source": [
    "参数有两种类型：权值参数和偏置项。分别用params[\"conv1\"][0]和params[\"conv1\"][1]表示。我们只显示权值参数，因此用params[\"conv1\"][0]。"
   ]
  },
  {
   "cell_type": "code",
   "execution_count": null,
   "metadata": {
    "collapsed": true
   },
   "outputs": [],
   "source": [
    "# 第二个卷积层的权值参数，共有32*32个filter,每个filter大小为5*5\n",
    "weight = net.params[\"conv2\"][0].data\n",
    "print weight.shape\n",
    "show_feature(weight.reshape(32**2, 5, 5))"
   ]
  },
  {
   "cell_type": "code",
   "execution_count": null,
   "metadata": {
    "collapsed": true
   },
   "outputs": [],
   "source": [
    "# 第三个卷积层的权值，共有64*32个filter,每个filter大小为5*5，取其前1024个进行可视化\n",
    "weight = net.params[\"conv3\"][0].data\n",
    "print(weight.shape)\n",
    "show_feature(weight.reshape(64*32, 5, 5)[:1024])"
   ]
  }
 ],
 "metadata": {
  "kernelspec": {
   "display_name": "Python 2",
   "language": "python",
   "name": "python2"
  },
  "language_info": {
   "codemirror_mode": {
    "name": "ipython",
    "version": 2
   },
   "file_extension": ".py",
   "mimetype": "text/x-python",
   "name": "python",
   "nbconvert_exporter": "python",
   "pygments_lexer": "ipython2",
   "version": "2.7.12"
  }
 },
 "nbformat": 4,
 "nbformat_minor": 1
}
