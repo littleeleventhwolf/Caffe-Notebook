{
 "cells": [
  {
   "cell_type": "markdown",
   "metadata": {},
   "source": [
    "python/draw_net.py, 这个文件，就是用来绘制网络模型的。也就是将网络模型由prototxt变成一张图片。\n",
    "\n",
    "在绘制之前，需要先安装两个库。\n",
    "\n",
    "１、安装ＧraphViz\n",
    "\n",
    "```shell\n",
    "sudo apt-get install GraphViz\n",
    "```\n",
    "\n",
    "注意，这里用的是apt-get来安装，而不是pip。\n",
    "\n",
    "2 、安装pydot\n",
    "\n",
    "```shell\n",
    "sudo pip install pydot\n",
    "```\n",
    "\n",
    "用的是pip来安装，而不是apt-get。\n",
    "\n",
    "安装好了，就可以调用脚本来绘制图片了。\n",
    "\n",
    "draw_net.py执行的时候带三个参数。\n",
    "\n",
    "* 第一个参数：网络模型的prototxt文件\n",
    "* 第二个参数：保存的图片路径及名字\n",
    "* 第三个参数：--rankdir=x , x 有四种选项，分别是LR, RL, TB, BT 。用来表示网络的方向，分别是从左到右，从右到左，从上到小，从下到上。默认为LＲ\n",
    "\n",
    "例：绘制Lenet模型"
   ]
  },
  {
   "cell_type": "code",
   "execution_count": null,
   "metadata": {
    "collapsed": true
   },
   "outputs": [],
   "source": [
    "! python python/draw_net.py examples/cifar10/cifar10_full_train_test.prototxt netImage/cifar10.png --rankdir=BT"
   ]
  }
 ],
 "metadata": {
  "kernelspec": {
   "display_name": "Python 2",
   "language": "python",
   "name": "python2"
  },
  "language_info": {
   "codemirror_mode": {
    "name": "ipython",
    "version": 2
   },
   "file_extension": ".py",
   "mimetype": "text/x-python",
   "name": "python",
   "nbconvert_exporter": "python",
   "pygments_lexer": "ipython2",
   "version": "2.7.9"
  }
 },
 "nbformat": 4,
 "nbformat_minor": 1
}
